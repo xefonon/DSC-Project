{
  "nbformat": 4,
  "nbformat_minor": 0,
  "metadata": {
    "colab": {
      "name": "8. Antiderivative(Physics-Informed-DeepONet).ipynb",
      "provenance": [],
      "collapsed_sections": [],
      "machine_shape": "hm",
      "include_colab_link": true
    },
    "kernelspec": {
      "name": "python3",
      "display_name": "Python 3"
    },
    "language_info": {
      "name": "python"
    },
    "accelerator": "GPU",
    "gpuClass": "standard"
  },
  "cells": [
    {
      "cell_type": "markdown",
      "metadata": {
        "id": "view-in-github",
        "colab_type": "text"
      },
      "source": [
        "<a href=\"https://colab.research.google.com/github/jdtoscano94/Learning-PINNs-in-Python-Physics-Informed-Machine-Learning/blob/main/8_Antiderivative(Physics_Informed_DeepONet).ipynb\" target=\"_parent\"><img src=\"https://colab.research.google.com/assets/colab-badge.svg\" alt=\"Open In Colab\"/></a>"
      ]
    },
    {
      "cell_type": "code",
      "execution_count": null,
      "metadata": {
        "id": "7JQXTWz35c40"
      },
      "outputs": [],
      "source": [
        "import numpy as onp\n",
        "import jax.numpy as np\n",
        "from jax import random, grad, vmap, jit\n",
        "from jax.experimental import optimizers\n",
        "from jax.experimental.ode import odeint\n",
        "from jax.nn import relu\n",
        "from jax.config import config\n",
        "\n",
        "import itertools\n",
        "from functools import partial\n",
        "from torch.utils import data\n",
        "from tqdm import trange\n",
        "import matplotlib.pyplot as plt\n",
        "\n",
        "%matplotlib inline"
      ]
    },
    {
      "cell_type": "markdown",
      "source": [
        "# Auxiliary Functions"
      ],
      "metadata": {
        "id": "fDhK-Kr3GyGa"
      }
    },
    {
      "cell_type": "code",
      "source": [
        "# Define RBF kernel\n",
        "def RBF(x1, x2, params):\n",
        "    output_scale, lengthscales = params\n",
        "    diffs = np.expand_dims(x1 / lengthscales, 1) - \\\n",
        "            np.expand_dims(x2 / lengthscales, 0)\n",
        "    r2 = np.sum(diffs**2, axis=2)\n",
        "    return output_scale * np.exp(-0.5 * r2)"
      ],
      "metadata": {
        "id": "rT2DnjCLG3cv"
      },
      "execution_count": null,
      "outputs": []
    },
    {
      "cell_type": "code",
      "source": [
        "def plot_us(x,u,y,s):\n",
        "  fig, ax1 = plt.subplots(figsize=(8, 6))\n",
        "  plt.rcParams['font.size'] = '18'\n",
        "  color='black'\n",
        "  wdt=1.5\n",
        "  ax1.plot(x,u,'k--',label='$u(x)=ds/dx$',linewidth=wdt)\n",
        "  ax1.plot(y,s,'o-',label='$s(x)=s(0)+\\int u(t)dt|_{t=y}$',linewidth=wdt)\n",
        "  ax1.set_xlabel('x',fontsize='large')\n",
        "  ax1.set_ylabel('u',fontsize='large')\n",
        "  ax1.tick_params(axis='y', color=color)\n",
        "  ax1.legend(loc = 'lower right', ncol=1)"
      ],
      "metadata": {
        "id": "IVsow-L9Gz2b"
      },
      "execution_count": null,
      "outputs": []
    },
    {
      "cell_type": "markdown",
      "source": [
        "# **Introduction**\n",
        "\n",
        "## **Functions and Operators:**\n",
        "\n",
        "### **Function:**\n",
        "\n",
        " Maps between vector spaces:\n",
        "\n",
        "*Example:*\n",
        "\n",
        "Let $f_1(x)=sin(x)$; for  $x\\in\\mathbf{R}$\n",
        "\n",
        "$$z=f_1(x)=sin(x)\\in[0:1]$$\n",
        "\n",
        "In other words $f_1$ maps $\\mathbf{R}→[0,1]$\n",
        "\n",
        "### **Operator:**\n",
        "\n",
        " Maps between infinite-dimensional function spaces:\n",
        "$$G(f_1(x))=f_2(x)$$\n",
        "\n",
        "*Example:*\n",
        "\n",
        "Derivative Operator →$\\frac{d}{d x}$\n",
        "\n",
        "It transforms a funcion $f_1$ into a function $f_2$:\n",
        "\n",
        "Let $f_1(x)=sin(x)$\n",
        "\n",
        "Then when we apply our operator:\n",
        "\n",
        "$$f_2=\\frac{df_1(x)}{d x}=\\frac{d}{d x}sin(x)=cos(x)$$\n",
        "\n",
        "\n",
        "### **Parametric PDEs and Operators**\n",
        "\n",
        "Parametric PDEs $\\rightarrow$ Some parameters (e.g., shape, IC/BC, coefficients, etc.) of a given PDE system are allowed to change.\n",
        "\n",
        "Let  $\\mathcal{N}$ be a nonlinear differential operator. Let's consider parametric PDEs of the form:\n",
        "\n",
        "$$\\mathcal{N}(u,s)=0$$\n",
        "\n",
        "where, $u$ is the input function, and $s$ is the unknown PDE's solution (also a function.)\n",
        "\n",
        "Our PDE solution operator would be:\n",
        "\n",
        "$$G(u)=s$$\n",
        "\n",
        "**Note 1:**In other words, we can express the general solution of our PDE as an operator $G$\n",
        "\n",
        "**Note 2:** Remember $s$ is itself a function, so if we evaluate it at any point $y$, the answer would be a real number:\n",
        "\n",
        " $$G(u)(y)=s(y)\\in \\mathbf{R}$$\n",
        "\n",
        " ### **Universal Approximation Theorem for Operator**\n",
        "\n",
        " $\\forall \\epsilon >0$, there are positive integers $n,p,m$, constants $c_i^k,W_{bij}^k,b_{bij}^k,W_{tk},b_{tk}$ such that:\n",
        "\n",
        "$$\\left|G(u)(y)-\\sum_{k=1}^{p}\\sum_{i=1}^{n}c_i^k\\sigma\\left(\\sum_{j=1}^{m}W_{bij}^{k}u(x_j)+b_{bi}^k\\right).\\sigma(W_{tk}.y+b_{tk})\\right|<\\epsilon $$\n",
        "\n",
        " ### **Neural Network**\n",
        "\n",
        "A Neural Network is a function that takes the form: (See:https://book.sciml.ai/notes/03/)\n",
        "\n",
        "$$NN(X)=W_n\\sigma_{n-1}(W_{n-1}\\sigma_{n-2}(...(W_2\\sigma_1(W_1X+b_1)+b_2)+..)+b_{n-1})+b_n$$\n",
        "\n",
        "So we can use 2 NNs to implement the Universal Approximation Theorem for Operator i.e.\n",
        "\n",
        "Branch:\n",
        "\n",
        "$$NN_b(u(\\textbf{x}))=b(u(\\textbf{x}))=\\textbf{c}.\\sigma\\left(W_{b}u(\\textbf{x})+\\textbf{b}_{b}\\right)$$\n",
        "\n",
        "Trunk:\n",
        "\n",
        "\n",
        "$$NN_t(\\textbf{y})=t(\\textbf{y})=\\sigma(W_{t}.\\textbf{y}+\\textbf{b}_{t})$$\n",
        "\n",
        "### **DeepOnet**\n",
        "\n",
        "Learn the solution operators of parametric PDEs → We will try to approximate $G$  (the solution of our PDE operator) by two neural networks:\n",
        "\n",
        "\n",
        "$$G_\\theta(u)(y)=\\sum_{k=1}^q\\underset{Branch}{\\underbrace{b_k\\left(u(x_1),u(x_2),...,u(x_m)\\right)}}.\\underset{Trunk}{\\underbrace{t_k(\\textbf{y})}}$$\n",
        "\n",
        "\n",
        "We want to obtain G, so our goal would be:\n",
        "\n",
        " $$G_\\theta(u)(y)\\approx G(u)(y)$$\n",
        "\n",
        "So we will enforce that condition into a loss function:\n",
        "\n",
        "$$\\mathcal{L}_{Operator}(\\theta)=\\frac{1}{NP}\\sum_{i=1}^N\\sum_{j=1}^P\\left|G_{\\theta}(u^{(i)})y_j^{(i)}-G(u^{(i)})y_j^{(i)}\\right|^2$$\n",
        "\n",
        "\n",
        "$$\\mathcal{L}_{Operator}(\\theta)=\\frac{1}{NP}\\sum_{i=1}^N\\sum_{j=1}^P\\left|\\sum_{k=1}^q{b_k\\left(u(x_1),u(x_2),...,u(x_m)\\right)}.t_k(y_j^{(i)})-G(u^{(i)})y_j^{(i)}\\right|^2$$\n",
        "\n",
        "where $N$ is the number of functions $u(x)$ in our training dataset, $P$ is the number of points inside the domain at which we will evaluate $G(u)$. \n",
        "\n",
        "$m:$ Number of points at which we evaluated our input functions.\n",
        "\n",
        "$N:$ Number of input functions.\n",
        "\n",
        "$P:$ Number of points at which we evaluate the output function → output sensors.\n"
      ],
      "metadata": {
        "id": "PhPIO4gwxTcb"
      }
    },
    {
      "cell_type": "markdown",
      "source": [
        "# Physics-informed DeepONets\n",
        "\n",
        "\n",
        "Similar to a PINN, a Physics-informed DeepONets output functions consistent with physical constraints by minimizing the residual of an underlying governing law (i.e., nonlinear differential operator).\n",
        "\n",
        "$$\\mathcal{L}_{Physics}(\\theta)=\\frac{1}{NQm}\\sum_{i=1}^{N}\\sum_{j=1}^{Q}\\sum_{k=1}^{m}\\left|\\mathcal{N}(u^{(i)}(x_k),G_{\\theta}(u^{(i)})(y_j^{(i)})\\right|^2$$\n",
        "\n",
        "where $\\mathcal{N}$ is a nonlinear differential operator, and $\\{y_j\\}_{i=1}^{Q}$ are the collocation points ( we use them to enforce the physical constraint).\n",
        "\n",
        "So the total loss would be:\n",
        "\n",
        "$$\\mathcal{L}(\\theta)=\\mathcal{L}_{Operator}(\\theta)+\\mathcal{L}_{Physics}(\\theta)$$\n",
        "\n",
        "\n",
        "\n",
        "\n",
        "\n"
      ],
      "metadata": {
        "id": "uRXrweOQ7JRL"
      }
    },
    {
      "cell_type": "markdown",
      "source": [
        "**In summary:**\n",
        "\n",
        "To train a DeepOnet, we would:\n",
        "\n",
        "1.   We select $N$ functions →$u^{(i)}(x)$.\n",
        "2.   We evaluate our $N$ functions at $m$ points (i.e., input sensors) →$\\begin{bmatrix}u^{(1)}(x_1)&u^{(1)}(x_2)&...&u^{(1)}(x_m)\\\\\n",
        "u^{(2)}(x_1)&u^{(2)}(x_2)&...&u^{(2)}(x_m)\\\\\n",
        "\\vdots&\\vdots&\\ddots&\\vdots\\\\\n",
        "u^{(N)}(x_1)&u^{(N)}(x_2)&...&u^{(N)}(x_m)\\end{bmatrix}$\n",
        "3.   We send the $m$ outputs of our $N$ functions to our **branch network** → $b_k\\begin{pmatrix}u^{(1)}(x_1)&u^{(1)}(x_2)&...&u^{(1)}(x_m)\\\\\n",
        "u^{(2)}(x_1)&u^{(2)}(x_2)&...&u^{(2)}(x_m)\\\\\n",
        "\\vdots&\\vdots&\\ddots&\\vdots\\\\\n",
        "u^{(N)}(x_1)&u^{(N)}(x_2)&...&u^{(N)}(x_m)\\end{pmatrix}$\n",
        "4.   We select $P$ points (i.e., output sensors) inside our domain → $y_1,y_2,...,y_P$\n",
        "5.  We send our output sensors to our **trunk network**→$t_k(y_1,y_2,...,y_P)$\n",
        "6. We approximate our operator by computing the dot product between the output of our **branch network** and the output of our **trunk network**→ $G_\\theta(u)(y)=\\sum_{k=1}^q\\underset{Branch}{\\underbrace{b_k\\left(u(x_1),u(x_2),...,u(x_m)\\right)}}.\\underset{Trunk}{\\underbrace{t_k(\\textbf{y})}}$\n",
        "7. Ideally $G_\\theta(u)(y)\\approx G(u)(y)$, so we compute the error → $\\mathcal{L}_{Operator}(\\theta)=\\frac{1}{NP}\\sum_{i=1}^N\\sum_{j=1}^P\\left|G_{\\theta}(u^{(i)})y_j^{(i)}-G(u^{(i)})y_j^{(i)}\\right|^2$\n",
        "8. We compute the error related to the underlying governing laws→ $\\mathcal{L}_{Physics}(\\theta)=\\frac{1}{NQm}\\sum_{i=1}^{N}\\sum_{j=1}^{Q}\\sum_{k=1}^{m}\\left|\\mathcal{N}(u^{(i)}(x_k),G_{\\theta}(u^{(i)})(y_j^{(i)})\\right|^2$\n",
        "\n",
        "9. We compute the total loss→$\\mathcal{L}(\\theta)=\\mathcal{L}_{operator}(\\theta)+\\mathcal{L}_{Physics}(\\theta)$\n",
        "9. We update our NN parameters (i.e., branch and trunk) to minimize  $\\mathcal{L}(\\theta)$.\n",
        "10. We repeat the process."
      ],
      "metadata": {
        "id": "Ps79-_vKBzDC"
      }
    },
    {
      "cell_type": "markdown",
      "source": [
        "# Problem Setup\n",
        "\n",
        "**Anti-derivative Operator**\n",
        "\n",
        "Our PDE would be:\n",
        "\n",
        "$$\\frac{ds(x)}{dx}-u(x)=0$$\n",
        "\n",
        "\n",
        "The solution of our PDE is:\n",
        "\n",
        "$$G:u(x)→s(x)=s(0)+\\int_{0}^{x}u(t)dt$$\n",
        "\n",
        "$$x\\in[0,1]$$\n",
        "$$s(0)=0$$\n",
        "\n",
        "In this example, lets concider $Q=m$ and $\\{y_j^{(i)}\\}_{j=1}^Q$. Hence, the physics loss can be formulated as:\n",
        "\n",
        "$$\\mathcal{L}_{Physics}(\\theta)=\\frac{1}{Nm}\\sum_{i=1}^{N}\\sum_{k=1}^{m}\\left|\\frac{dG_{\\theta}(u^{(i)})(y)}{dy}\\big{|}_{y=x_j}-u^{(i)}(x_j)\\right|^2$$\n"
      ],
      "metadata": {
        "id": "J-qnbwQ5DTuw"
      }
    },
    {
      "cell_type": "markdown",
      "source": [
        "# Data Generation"
      ],
      "metadata": {
        "id": "FvY9PrxfylwH"
      }
    },
    {
      "cell_type": "markdown",
      "source": [
        "We will randomly sample 10000 different functions $u$ from a zero-mean Gaussian process with an exponential quadratic kernel with a length scale: $l=0.2$."
      ],
      "metadata": {
        "id": "phC4C1GNDrvA"
      }
    },
    {
      "cell_type": "code",
      "source": [
        "N_train = 10000\n",
        "m = 100 # number of input sensors\n",
        "P_train = 1   # number of output sensors\n",
        "length_scale = 0.2 #lenght_scale for the exponential quadratic kernel\n",
        "key_train = random.PRNGKey(0)  # use different key for generating training data and test data \n",
        "config.update(\"jax_enable_x64\", True) # Enable double precision"
      ],
      "metadata": {
        "id": "R-lQbo2kYcvA"
      },
      "execution_count": null,
      "outputs": []
    },
    {
      "cell_type": "markdown",
      "source": [
        "## Generate a random function"
      ],
      "metadata": {
        "id": "gupNZ3GKDSDu"
      }
    },
    {
      "cell_type": "code",
      "source": [
        "# Sample GP prior at a fine grid\n",
        "N = 512\n",
        "gp_params = (1.0, length_scale)\n",
        "jitter = 1e-10\n",
        "X = np.linspace(0, 1, N)[:,None]\n",
        "K = RBF(X, X, gp_params)\n",
        "L = np.linalg.cholesky(K + jitter*np.eye(N))\n",
        "gp_sample = np.dot(L, random.normal(key_train, (N,)))\n",
        "\n",
        "# Create a callable interpolation function  \n",
        "u_fn = lambda x, t: np.interp(t, X.flatten(), gp_sample)\n",
        "# Input sensor locations and measurements\n",
        "x = np.linspace(0, 1, m)\n",
        "u = vmap(u_fn, in_axes=(None,0))(0.0, x) #vectorize our code to run it in multiple batches simultaneusly (or to evaluate a function simultaneusly)"
      ],
      "metadata": {
        "id": "ol-umrOeGD0E"
      },
      "execution_count": null,
      "outputs": []
    },
    {
      "cell_type": "markdown",
      "source": [
        "We obtain the corresponding 10000 ODE solutions by solving: \n",
        "\n",
        "$$\\frac{ds(x)}{dx}=u(x)$$\n",
        "\n",
        "Using an explicit Runge-Kutta method(RK45)→ JAX's odeint functiom."
      ],
      "metadata": {
        "id": "XHzsz9XlEzCy"
      }
    },
    {
      "cell_type": "code",
      "source": [
        "# Output sensor locations and measurements\n",
        "y_train = random.uniform(key_train, (P_train*100,)).sort() \n",
        "s_train = odeint(u_fn, 0.0, y_train) # Obtain the ODE solution"
      ],
      "metadata": {
        "id": "Y6-OyfHJl0-7"
      },
      "execution_count": null,
      "outputs": []
    },
    {
      "cell_type": "code",
      "source": [
        "plot_us(x,u,y_train,s_train)"
      ],
      "metadata": {
        "colab": {
          "base_uri": "https://localhost:8080/",
          "height": 400
        },
        "id": "kTiLiL5gK917",
        "outputId": "e876c480-3351-41aa-8f2d-044ec566f5a8"
      },
      "execution_count": null,
      "outputs": [
        {
          "output_type": "display_data",
          "data": {
            "text/plain": [
              "<Figure size 576x432 with 1 Axes>"
            ],
            "image/png": "[encoded data removed]"
          },
          "metadata": {
            "needs_background": "light"
          }
        }
      ]
    },
    {
      "cell_type": "markdown",
      "source": [
        "Now, we will have to create many functions for our testing and training dataset, so let's create a pair of programing-functions to generate one random function at a time."
      ],
      "metadata": {
        "id": "0BJmeBjxfjjg"
      }
    },
    {
      "cell_type": "code",
      "source": [
        "# Geneate training data corresponding to one input sample\n",
        "def generate_one_training_data(key, m=100, P=1):\n",
        "    # Sample GP prior at a fine grid\n",
        "    N = 512\n",
        "    gp_params = (1.0, length_scale)\n",
        "    jitter = 1e-10\n",
        "    X = np.linspace(0, 1, N)[:,None]\n",
        "    K = RBF(X, X, gp_params)\n",
        "    L = np.linalg.cholesky(K + jitter*np.eye(N))\n",
        "    gp_sample = np.dot(L, random.normal(key, (N,)))\n",
        "\n",
        "    # Create a callable interpolation function  \n",
        "    u_fn = lambda x, t: np.interp(t, X.flatten(), gp_sample)\n",
        "\n",
        "    # Input sensor locations and measurements\n",
        "    x = np.linspace(0, 1, m)\n",
        "    u = vmap(u_fn, in_axes=(None,0))(0.0, x)\n",
        "\n",
        "    # Output sensor locations and measurements\n",
        "    y_train = random.uniform(key, (P,)).sort() \n",
        "    s_train = odeint(u_fn, 0.0, np.hstack((0.0, y_train)))[1:] # JAX has a bug and always returns s(0), so add a dummy entry to y and return s[1:]\n",
        "\n",
        "    # Tile inputs\n",
        "    u_train = np.tile(u, (P,1))\n",
        "\n",
        "    # training data for the residual\n",
        "    u_r_train = np.tile(u, (m, 1))\n",
        "    y_r_train = x\n",
        "    s_r_train = u\n",
        "\n",
        "    return u_train, y_train, s_train, u_r_train, y_r_train,  s_r_train"
      ],
      "metadata": {
        "id": "aS4wnXKpzHic"
      },
      "execution_count": null,
      "outputs": []
    },
    {
      "cell_type": "code",
      "source": [
        "# Geneate test data corresponding to one input sample\n",
        "def generate_one_test_data(key, m=100, P=100):\n",
        "    # Sample GP prior at a fine grid\n",
        "    N = 512\n",
        "    gp_params = (1.0, length_scale)\n",
        "    jitter = 1e-10\n",
        "    X = np.linspace(0, 1, N)[:,None]\n",
        "    K = RBF(X, X, gp_params)\n",
        "    L = np.linalg.cholesky(K + jitter*np.eye(N))\n",
        "    gp_sample = np.dot(L, random.normal(key, (N,)))\n",
        "\n",
        "    # Create a callable interpolation function  \n",
        "    u_fn = lambda x, t: np.interp(t, X.flatten(), gp_sample)\n",
        "\n",
        "    # Input sensor locations and measurements\n",
        "    x = np.linspace(0, 1, m)\n",
        "    u = vmap(u_fn, in_axes=(None,0))(0.0, x)\n",
        "\n",
        "    # Output sensor locations and measurements\n",
        "    y = np.linspace(0, 1, P)\n",
        "    s = odeint(u_fn, 0.0, y)\n",
        "\n",
        "    # Tile inputs\n",
        "    u = np.tile(u, (P,1))\n",
        "\n",
        "    return u, y, s "
      ],
      "metadata": {
        "id": "Bhn_Dy-FWph0"
      },
      "execution_count": null,
      "outputs": []
    },
    {
      "cell_type": "markdown",
      "source": [
        "## Data Generation"
      ],
      "metadata": {
        "id": "rx2GnFcxy2vq"
      }
    },
    {
      "cell_type": "code",
      "source": [
        "# Training Data\n",
        "N_train = 10000 #Number of functions\n",
        "m = 100 # number of input sensors\n",
        "P_train = 1   # number of output sensors\n",
        "key_train = random.PRNGKey(0)  # use different key for generating training data and test data "
      ],
      "metadata": {
        "id": "dKqeYeFVbmEJ"
      },
      "execution_count": null,
      "outputs": []
    },
    {
      "cell_type": "code",
      "source": [
        "config.update(\"jax_enable_x64\", True) # Enable double precision\n",
        "keys = random.split(key_train, N_train) # Obtain 10000 random numbers"
      ],
      "metadata": {
        "id": "LctcnSb_hVr2"
      },
      "execution_count": null,
      "outputs": []
    },
    {
      "cell_type": "code",
      "source": [
        "gen_fn = jit(lambda key: generate_one_training_data(key, m, P_train)) # Call the function that generates functions\n",
        "u_train, y_train, s_train, u_r_train, y_r_train, s_r_train = vmap(gen_fn)(keys)"
      ],
      "metadata": {
        "id": "CZCfAP7Qha8N"
      },
      "execution_count": null,
      "outputs": []
    },
    {
      "cell_type": "code",
      "source": [
        "# Reshape the data\n",
        "u_train = np.float32(u_train.reshape(N_train * P_train,-1))\n",
        "y_train = np.float32(y_train.reshape(N_train * P_train,-1))\n",
        "s_train = np.float32(s_train.reshape(N_train * P_train,-1))\n",
        "\n",
        "u_r_train = np.float32(u_r_train.reshape(N_train * m,-1))\n",
        "y_r_train = np.float32(y_r_train.reshape(N_train * m,-1))\n",
        "s_r_train = np.float32(s_r_train.reshape(N_train * m,-1))"
      ],
      "metadata": {
        "id": "PrIKONnAiLBs"
      },
      "execution_count": null,
      "outputs": []
    },
    {
      "cell_type": "code",
      "source": [
        "# Testing Data\n",
        "N_test = 1 # number of input samples \n",
        "P_test = m   # number of sensors \n",
        "key_test = random.PRNGKey(12345) # A different key "
      ],
      "metadata": {
        "id": "t72zeQnJirdA"
      },
      "execution_count": null,
      "outputs": []
    },
    {
      "cell_type": "code",
      "source": [
        "keys = random.split(key_test, N_test)\n",
        "gen_fn = jit(lambda key: generate_one_test_data(key, m, P_test))\n",
        "u, y, s = vmap(gen_fn)(keys)"
      ],
      "metadata": {
        "id": "EfTydf5Cjkrh"
      },
      "execution_count": null,
      "outputs": []
    },
    {
      "cell_type": "code",
      "source": [
        "#Reshape the data\n",
        "u_test = np.float32(u.reshape(N_test * P_test,-1))\n",
        "y_test = np.float32(y.reshape(N_test * P_test,-1))\n",
        "s_test = np.float32(s.reshape(N_test * P_test,-1))"
      ],
      "metadata": {
        "id": "O_cXqtdFjo57"
      },
      "execution_count": null,
      "outputs": []
    },
    {
      "cell_type": "code",
      "source": [
        "# Data generator\n",
        "class DataGenerator(data.Dataset):\n",
        "    def __init__(self, u, y, s, \n",
        "                 batch_size=64, rng_key=random.PRNGKey(1234)):\n",
        "        'Initialization'\n",
        "        self.u = u # input sample\n",
        "        self.y = y # location\n",
        "        self.s = s # labeled data evulated at y (solution measurements, BC/IC conditions, etc.)\n",
        "        \n",
        "        self.N = u.shape[0]\n",
        "        self.batch_size = batch_size\n",
        "        self.key = rng_key\n",
        "\n",
        "    def __getitem__(self, index):\n",
        "        'Generate one batch of data'\n",
        "        self.key, subkey = random.split(self.key)\n",
        "        inputs, outputs = self.__data_generation(subkey)\n",
        "        return inputs, outputs\n",
        "\n",
        "    @partial(jit, static_argnums=(0,))\n",
        "    def __data_generation(self, key):\n",
        "        'Generates data containing batch_size samples'\n",
        "        idx = random.choice(key, self.N, (self.batch_size,), replace=False)\n",
        "        s = self.s[idx,:]\n",
        "        y = self.y[idx,:]\n",
        "        u = self.u[idx,:]\n",
        "        # Construct batch\n",
        "        inputs = (u, y)\n",
        "        outputs = s\n",
        "        return inputs, outputs"
      ],
      "metadata": {
        "id": "fm6kLyH0lev8"
      },
      "execution_count": null,
      "outputs": []
    },
    {
      "cell_type": "markdown",
      "source": [
        "# DeepOnet"
      ],
      "metadata": {
        "id": "GfgoQuM6lKTa"
      }
    },
    {
      "cell_type": "code",
      "source": [
        "# Define the neural net\n",
        "def MLP(layers, activation=relu):\n",
        "  ''' Vanilla MLP'''\n",
        "  def init(rng_key):\n",
        "      def init_layer(key, d_in, d_out):\n",
        "          k1, k2 = random.split(key)\n",
        "          glorot_stddev = 1. / np.sqrt((d_in + d_out) / 2.)\n",
        "          W = glorot_stddev * random.normal(k1, (d_in, d_out))\n",
        "          b = np.zeros(d_out)\n",
        "          return W, b\n",
        "      key, *keys = random.split(rng_key, len(layers))\n",
        "      params = list(map(init_layer, keys, layers[:-1], layers[1:]))\n",
        "      return params\n",
        "  def apply(params, inputs):\n",
        "      for W, b in params[:-1]:\n",
        "          outputs = np.dot(inputs, W) + b\n",
        "          inputs = activation(outputs)\n",
        "      W, b = params[-1]\n",
        "      outputs = np.dot(inputs, W) + b\n",
        "      return outputs\n",
        "  return init, apply\n"
      ],
      "metadata": {
        "id": "Jslem3iHlwAs"
      },
      "execution_count": null,
      "outputs": []
    },
    {
      "cell_type": "code",
      "source": [
        "# Define the model\n",
        "class PI_DeepONet:\n",
        "    def __init__(self, branch_layers, trunk_layers):    \n",
        "        # Network initialization and evaluation functions\n",
        "        self.branch_init, self.branch_apply = MLP(branch_layers, activation=np.tanh)\n",
        "        self.trunk_init, self.trunk_apply = MLP(trunk_layers, activation=np.tanh)\n",
        "\n",
        "        # Initialize\n",
        "        branch_params = self.branch_init(rng_key = random.PRNGKey(1234))\n",
        "        trunk_params = self.trunk_init(rng_key = random.PRNGKey(4321))\n",
        "        params = (branch_params, trunk_params)\n",
        "\n",
        "        # Use optimizers to set optimizer initialization and update functions\n",
        "        self.opt_init, \\\n",
        "        self.opt_update, \\\n",
        "        self.get_params = optimizers.adam(optimizers.exponential_decay(1e-3, \n",
        "                                                                      decay_steps=1000, \n",
        "                                                                      decay_rate=0.9))\n",
        "        self.opt_state = self.opt_init(params)\n",
        "\n",
        "        self.itercount = itertools.count()\n",
        "        \n",
        "        # Loggers\n",
        "        self.loss_log = []\n",
        "        self.loss_operator_log = []\n",
        "        self.loss_physics_log = []\n",
        "\n",
        "    # Define DeepONet architecture\n",
        "    def operator_net(self, params, u, y):\n",
        "        branch_params, trunk_params = params\n",
        "        B = self.branch_apply(branch_params, u)\n",
        "        T = self.trunk_apply(trunk_params, y)\n",
        "        outputs = np.sum(B * T)\n",
        "        return outputs\n",
        "    \n",
        "    # Define ODE/PDE residual\n",
        "    def residual_net(self, params, u, y):\n",
        "        s_y = grad(self.operator_net, argnums = 2)(params, u, y)\n",
        "        return s_y\n",
        "    \n",
        "    # Define operator loss\n",
        "    def loss_operator(self, params, batch):\n",
        "        # Fetch data\n",
        "        # inputs: (u, y), shape = (N, m), (N,1)\n",
        "        # outputs: s, shape = (N,1)\n",
        "        inputs, outputs = batch\n",
        "        u, y = inputs\n",
        "        # Compute forward pass\n",
        "        pred = vmap(self.operator_net, (None, 0, 0))(params, u, y)\n",
        "        # Compute loss\n",
        "        loss = np.mean((outputs.flatten() - pred.flatten())**2)\n",
        "        return loss\n",
        "\n",
        "    # Define physics loss\n",
        "    def loss_physics(self, params, batch):\n",
        "        # Fetch data\n",
        "        # inputs: (u_r, y_r), shape = (NxQ, m), (NxQ,1)\n",
        "        # outputs: s_r, shape = (NxQ, 1)\n",
        "        inputs, outputs = batch\n",
        "        u, y = inputs\n",
        "        # Compute forward pass\n",
        "        pred = vmap(self.residual_net, (None, 0, 0))(params, u, y)\n",
        "        # Compute loss\n",
        "        loss = np.mean((outputs.flatten() - pred.flatten())**2)\n",
        "        return loss    \n",
        "    \n",
        "    # Define total loss\n",
        "    def loss(self, params, operator_batch, physics_batch):\n",
        "        loss_operator = self.loss_operator(params, operator_batch)\n",
        "        loss_physics = self.loss_physics(params, physics_batch)\n",
        "        loss = loss_operator + loss_physics\n",
        "        return loss\n",
        "\n",
        "    # Define a compiled update step\n",
        "    @partial(jit, static_argnums=(0,))\n",
        "    def step(self, i, opt_state, operator_batch, physics_batch):\n",
        "        params = self.get_params(opt_state)\n",
        "        g = grad(self.loss)(params, operator_batch, physics_batch)\n",
        "        return self.opt_update(i, g, opt_state)\n",
        "\n",
        "    # Optimize parameters in a loop\n",
        "    def train(self, operator_dataset, physics_dataset, nIter = 10000):\n",
        "        # Define the data iterator\n",
        "        operator_data = iter(operator_dataset)\n",
        "        physics_data = iter(physics_dataset)\n",
        "\n",
        "        pbar = trange(nIter)\n",
        "        # Main training loop\n",
        "        for it in pbar:\n",
        "            operator_batch= next(operator_data)\n",
        "            physics_batch = next(physics_data)\n",
        "\n",
        "            self.opt_state = self.step(next(self.itercount), self.opt_state, operator_batch, physics_batch)\n",
        "            \n",
        "            if it % 100 == 0:\n",
        "                params = self.get_params(self.opt_state)\n",
        "\n",
        "                # Compute losses\n",
        "                loss_value = self.loss(params, operator_batch, physics_batch)\n",
        "                loss_operator_value = self.loss_operator(params, operator_batch)\n",
        "                loss_physics_value = self.loss_physics(params, physics_batch)\n",
        "\n",
        "                # Store losses\n",
        "                self.loss_log.append(loss_value)\n",
        "                self.loss_operator_log.append(loss_operator_value)\n",
        "                self.loss_physics_log.append(loss_physics_value)\n",
        "\n",
        "                # Print losses during training\n",
        "                pbar.set_postfix({'Loss': loss_value, \n",
        "                                  'loss_operator' : loss_operator_value, \n",
        "                                  'loss_physics': loss_physics_value})\n",
        "       \n",
        "           \n",
        "    # Evaluates predictions at test points  \n",
        "    @partial(jit, static_argnums=(0,))\n",
        "    def predict_s(self, params, U_star, Y_star):\n",
        "        s_pred = vmap(self.operator_net, (None, 0, 0))(params, U_star, Y_star)\n",
        "        return s_pred\n",
        "\n",
        "    @partial(jit, static_argnums=(0,))\n",
        "    def predict_s_y(self, params, U_star, Y_star):\n",
        "        s_y_pred = vmap(self.residual_net, (None, 0, 0))(params, U_star, Y_star)\n",
        "        return s_y_pred"
      ],
      "metadata": {
        "id": "7ZG1bVnij-bg"
      },
      "execution_count": null,
      "outputs": []
    },
    {
      "cell_type": "markdown",
      "source": [
        "# Evaluate our Operator"
      ],
      "metadata": {
        "id": "p1bmvbf1rTx2"
      }
    },
    {
      "cell_type": "code",
      "source": [
        "# Initialize model\n",
        "# For vanilla DeepONet, shallower network yields better accuarcy.\n",
        "branch_layers = [m, 50, 50, 50, 50, 50]\n",
        "trunk_layers =  [1, 50, 50, 50, 50, 50]\n",
        "\n",
        "model = PI_DeepONet(branch_layers, trunk_layers)"
      ],
      "metadata": {
        "id": "X5RUVLmalT4P"
      },
      "execution_count": null,
      "outputs": []
    },
    {
      "cell_type": "code",
      "source": [
        "# Create data set\n",
        "batch_size = 10000\n",
        "operator_dataset = DataGenerator(u_train, y_train, s_train, batch_size)\n",
        "physics_dataset = DataGenerator(u_r_train, y_r_train, s_r_train, batch_size)"
      ],
      "metadata": {
        "id": "vrXXP3ztlun6"
      },
      "execution_count": null,
      "outputs": []
    },
    {
      "cell_type": "code",
      "source": [
        "# Train\n",
        "model.train(operator_dataset, physics_dataset, nIter=40000)\n"
      ],
      "metadata": {
        "colab": {
          "base_uri": "https://localhost:8080/"
        },
        "id": "mUDa7cAdl9wR",
        "outputId": "13fba731-61c2-4c3f-ce78-ef68fee99249"
      },
      "execution_count": null,
      "outputs": [
        {
          "output_type": "stream",
          "name": "stderr",
          "text": [
            "100%|██████████| 40000/40000 [31:15<00:00, 21.32it/s, Loss=3.2560986358452726e-05, loss_operator=9.529131720905634e-07, loss_physics=3.1608073e-05]\n"
          ]
        }
      ]
    },
    {
      "cell_type": "code",
      "source": [
        "# Predict\n",
        "params = model.get_params(model.opt_state)"
      ],
      "metadata": {
        "id": "eXwnbxoQmR5w"
      },
      "execution_count": null,
      "outputs": []
    },
    {
      "cell_type": "code",
      "source": [
        "s_pred = model.predict_s(params, u_test, y_test)[:,None]"
      ],
      "metadata": {
        "id": "-nO5cCL6mV-F"
      },
      "execution_count": null,
      "outputs": []
    },
    {
      "cell_type": "code",
      "source": [
        "s_y_pred = model.predict_s_y(params, u_test, y_test) # remember that s_y=ds/dy=u"
      ],
      "metadata": {
        "id": "NelrdvVvmXPN"
      },
      "execution_count": null,
      "outputs": []
    },
    {
      "cell_type": "code",
      "source": [
        "# Compute relative l2 error\n",
        "error_s = np.linalg.norm(s_test - s_pred) / np.linalg.norm(s_test) \n",
        "error_u = np.linalg.norm(u_test[::P_test].flatten()[:,None] - s_y_pred) / np.linalg.norm(u_test[::P_test].flatten()[:,None]) "
      ],
      "metadata": {
        "id": "0-l8xC6cmjXv"
      },
      "execution_count": null,
      "outputs": []
    },
    {
      "cell_type": "code",
      "source": [
        "print(error_s,error_u)"
      ],
      "metadata": {
        "colab": {
          "base_uri": "https://localhost:8080/"
        },
        "id": "T3OBppzUqMsa",
        "outputId": "4d76408a-289f-4d67-ca90-37ab1b1c2330"
      },
      "execution_count": null,
      "outputs": [
        {
          "output_type": "stream",
          "name": "stdout",
          "text": [
            "0.0032171660653468825 0.0037788479\n"
          ]
        }
      ]
    },
    {
      "cell_type": "markdown",
      "source": [
        "## Visualize the results for the first function in our Testing Dataset"
      ],
      "metadata": {
        "id": "os7XSd21Xj3l"
      }
    },
    {
      "cell_type": "code",
      "source": [
        "idx=0\n",
        "index = np.arange(idx * P_test,(idx + 1) * P_test)"
      ],
      "metadata": {
        "id": "rxObn9b8sNFI"
      },
      "execution_count": null,
      "outputs": []
    },
    {
      "cell_type": "code",
      "source": [
        "# Compute the relative l2 error for one input sample \n",
        "error_u = np.linalg.norm(s_test[index, :] - s_pred[index, :], 2) / np.linalg.norm(s_test[index, :], 2) \n",
        "error_s = np.linalg.norm(u_test[::P_test][idx].flatten()[:,None] - s_y_pred[index, :], 2) / np.linalg.norm(u_test[::P_test][idx].flatten()[:,None], 2) \n",
        "\n",
        "print(\"error_u: {:.3e}\".format(error_u))\n",
        "print(\"error_s: {:.3e}\".format(error_s))\n",
        "\n",
        "# Visualizations\n",
        "# Predicted solution s(y)\n",
        "plt.figure(figsize=(12,5))\n",
        "plt.subplot(1,2,1)\n",
        "plt.plot(y_test[index, :], s_test[index, :], label='Exact s', lw=2)\n",
        "plt.plot(y_test[index, :], s_pred[index, :], '--', label='Predicted s', lw=2)\n",
        "plt.xlabel('y')\n",
        "plt.ylabel('s(y)')\n",
        "plt.tight_layout()\n",
        "plt.legend()\n",
        "\n",
        "plt.subplot(1,2,2)\n",
        "plt.plot(y_test[index, :], s_pred[index, :] - s_test[index, :], '--', lw=2, label='error')\n",
        "plt.tight_layout()\n",
        "plt.legend()\n",
        "plt.show()\n",
        "\n",
        "# Predicted residual u(x)\n",
        "fig = plt.figure(figsize=(12,5))\n",
        "plt.subplot(1,2,1)\n",
        "plt.plot(y_test[index, :], u_test[::P_test][idx], label='Exact u', lw=2)\n",
        "plt.plot(y_test[index, :], s_y_pred[index,:], '--', label='Predicted u', lw=2)\n",
        "plt.legend()\n",
        "plt.tight_layout()\n",
        "\n",
        "plt.subplot(1,2,2)\n",
        "plt.plot(y_test[index, :], s_y_pred[index,:].flatten() - u_test[::P_test][idx] , '--', label='error', lw=2)\n",
        "plt.legend()\n",
        "plt.tight_layout()\n",
        "plt.show()"
      ],
      "metadata": {
        "colab": {
          "base_uri": "https://localhost:8080/",
          "height": 723
        },
        "id": "IJs6uuFKsZav",
        "outputId": "4c9eaa06-0b66-436f-8344-a8a247eb8f7a"
      },
      "execution_count": null,
      "outputs": [
        {
          "output_type": "stream",
          "name": "stdout",
          "text": [
            "error_u: 3.217e-03\n",
            "error_s: 3.779e-03\n"
          ]
        },
        {
          "output_type": "display_data",
          "data": {
            "text/plain": [
              "<Figure size 864x360 with 2 Axes>"
            ],
            "image/png": "[encoded data removed]"
          },
          "metadata": {
            "needs_background": "light"
          }
        },
        {
          "output_type": "display_data",
          "data": {
            "text/plain": [
              "<Figure size 864x360 with 2 Axes>"
            ],
            "image/png": "[encoded data removed]"
          },
          "metadata": {
            "needs_background": "light"
          }
        }
      ]
    },
    {
      "cell_type": "markdown",
      "source": [
        "# Example"
      ],
      "metadata": {
        "id": "V2Tj3ENYAS1f"
      }
    },
    {
      "cell_type": "markdown",
      "source": [
        "Lets obtain the anti-derivative of a trigonometric function. **However**, remember that this neural operator works for $x\\in[0,1]$ when the antiderivative's initial value ($s(0)=0$). To fulfill that conditions, we will use $u(x)=cos(2\\pi x),∀x\\in[0,1]$.\n",
        "\n",
        "\n",
        "So, we will evaluate our operator ($G$):\n",
        "\n",
        "\n",
        "$$G:u(x)→s(x)=s(0)+\\int_{0}^{x}u(t)dt$$\n",
        "\n",
        "to $u(t)=cos(2\\pi t)$:\n",
        "\n",
        "$$s(x)=s(0)+\\int_{0}^{x}cos(2\\pi t)dt$$\n",
        "\n",
        "Since $s(0)=0$, the answer would be (the integral of u):\n",
        "\n",
        "$$s(x)=\\frac{1}{2\\pi}sin(2\\pi x)$$\n",
        "\n"
      ],
      "metadata": {
        "id": "I9D9TlZpXvVS"
      }
    },
    {
      "cell_type": "code",
      "source": [
        "#u_fn = lambda x, t: np.interp(t, X.flatten(), gp_sample)\n",
        "u_fn = lambda t, x: -np.cos(2*np.pi*x)\n",
        "# Input sensor locations and measurements\n",
        "x = np.linspace(0, 1, m)\n",
        "u = u_fn(None,x)\n",
        "# Output sensor locations and measurements\n",
        "y =random.uniform(key_train, (m,)).sort()"
      ],
      "metadata": {
        "id": "uBbYSKUGAJU1"
      },
      "execution_count": null,
      "outputs": []
    },
    {
      "cell_type": "code",
      "source": [
        "# reshapte the data to be processed by our DeepOnet\n",
        "u2=np.tile(u,100)\n",
        "u2=np.float32(u2.reshape(N_test * P_test,-1))\n",
        "y=y.reshape(len(y),1)"
      ],
      "metadata": {
        "id": "5FrbAxKkALIi"
      },
      "execution_count": null,
      "outputs": []
    },
    {
      "cell_type": "code",
      "source": [
        "s=model.predict_s(params, u2, y)[:,None]"
      ],
      "metadata": {
        "id": "Hg6jY2IbANDO"
      },
      "execution_count": null,
      "outputs": []
    },
    {
      "cell_type": "code",
      "source": [
        "plot_us(x,u,y,s)"
      ],
      "metadata": {
        "colab": {
          "base_uri": "https://localhost:8080/",
          "height": 406
        },
        "id": "J13kyBSwAO9X",
        "outputId": "e221a553-1775-4907-cf33-d28dcdf7a5fb"
      },
      "execution_count": null,
      "outputs": [
        {
          "output_type": "display_data",
          "data": {
            "text/plain": [
              "<Figure size 576x432 with 1 Axes>"
            ],
            "image/png": "[encoded data removed]"
          },
          "metadata": {
            "needs_background": "light"
          }
        }
      ]
    },
    {
      "cell_type": "markdown",
      "source": [
        "# References\n",
        "\n",
        "[1] Lu, L., Jin, P., & Karniadakis, G. E. (2019). Deeponet: Learning nonlinear operators for identifying differential equations based on the universal approximation theorem of operators. arXiv preprint arXiv:1910.03193.\n",
        "\n",
        "[2] Wang, S., Wang, H., & Perdikaris, P. (2021). Learning the solution operator of parametric partial differential equations with physics-informed DeepONets. Science advances, 7(40), eabi8605."
      ],
      "metadata": {
        "id": "hAmGDh9OfSQd"
      }
    }
  ]
}
