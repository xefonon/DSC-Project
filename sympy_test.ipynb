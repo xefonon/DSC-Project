{
 "cells": [
  {
   "cell_type": "code",
   "execution_count": 1,
   "metadata": {
    "collapsed": true
   },
   "outputs": [],
   "source": [
    "from sympy import symbols, Function, Derivative, diff\n",
    "import sympy as sp"
   ]
  },
  {
   "cell_type": "code",
   "execution_count": 19,
   "outputs": [
    {
     "data": {
      "text/plain": "sin(\\phi)*Subs(Derivative(p(r*cos(\\phi), _xi_2), _xi_2), _xi_2, r*sin(\\phi)) + cos(\\phi)*Subs(Derivative(p(_xi_1, r*sin(\\phi)), _xi_1), _xi_1, r*cos(\\phi))",
      "text/latex": "$\\displaystyle \\sin{\\left(\\phi \\right)} \\left. \\frac{\\partial}{\\partial \\xi_{2}} p{\\left(r \\cos{\\left(\\phi \\right)},\\xi_{2} \\right)} \\right|_{\\substack{ \\xi_{2}=r \\sin{\\left(\\phi \\right)} }} + \\cos{\\left(\\phi \\right)} \\left. \\frac{\\partial}{\\partial \\xi_{1}} p{\\left(\\xi_{1},r \\sin{\\left(\\phi \\right)} \\right)} \\right|_{\\substack{ \\xi_{1}=r \\cos{\\left(\\phi \\right)} }}$"
     },
     "execution_count": 19,
     "metadata": {},
     "output_type": "execute_result"
    }
   ],
   "source": [
    "r, phi = symbols('r \\phi')\n",
    "p = symbols('p', cls=Function)\n",
    "x = r*sp.cos(phi)\n",
    "y = r*sp.sin(phi)\n",
    "g = p(x,y)\n",
    "Derivative(g,r).doit()\n",
    "# x, y = symbols('x y') # r (radius), t (angle theta)\n",
    "# r = sp.sqrt(x**2 + y**2)\n",
    "# phi = sp.atan2(y,x)\n",
    "# p = symbols('p', cls=Function)\n",
    "# g = p(x,y)\n",
    "# Derivative(g,r).doit()\n",
    "# diff(g,r,1).simplify()\n",
    "# diff(g,x)"
   ],
   "metadata": {
    "collapsed": false,
    "pycharm": {
     "name": "#%%\n"
    }
   }
  },
  {
   "cell_type": "code",
   "execution_count": null,
   "outputs": [],
   "source": [],
   "metadata": {
    "collapsed": false,
    "pycharm": {
     "name": "#%%\n"
    }
   }
  }
 ],
 "metadata": {
  "kernelspec": {
   "display_name": "Python 3",
   "language": "python",
   "name": "python3"
  },
  "language_info": {
   "codemirror_mode": {
    "name": "ipython",
    "version": 2
   },
   "file_extension": ".py",
   "mimetype": "text/x-python",
   "name": "python",
   "nbconvert_exporter": "python",
   "pygments_lexer": "ipython2",
   "version": "2.7.6"
  }
 },
 "nbformat": 4,
 "nbformat_minor": 0
}